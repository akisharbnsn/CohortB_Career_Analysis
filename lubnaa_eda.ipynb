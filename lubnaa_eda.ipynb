{
 "cells": [
  {
   "cell_type": "markdown",
   "id": "c479a5c6",
   "metadata": {},
   "source": [
    "# EXPLORE HUMAN RESOURCES DATA SET"
   ]
  },
  {
   "cell_type": "code",
   "execution_count": 2,
   "id": "af92c16b",
   "metadata": {},
   "outputs": [],
   "source": [
    "# import libraries\n",
    "\n",
    "import pandas as pd \n",
    "import numpy as np\n",
    "\n",
    "import seaborn as sns\n",
    "import matplotlib.pyplot as plt"
   ]
  },
  {
   "cell_type": "markdown",
   "id": "9c2fb13c",
   "metadata": {},
   "source": [
    "#### Data Import"
   ]
  },
  {
   "cell_type": "markdown",
   "id": "1a25b88b",
   "metadata": {},
   "source": [
    "We begin our analysis by loading HR datasets using pandas."
   ]
  },
  {
   "cell_type": "code",
   "execution_count": 3,
   "id": "5fe5e714",
   "metadata": {},
   "outputs": [],
   "source": [
    "# read csv file\n",
    "hr_df = pd.read_csv('data/HRDataset.csv')"
   ]
  },
  {
   "cell_type": "markdown",
   "id": "fdf85330",
   "metadata": {},
   "source": [
    "#### Previewing the Dataset"
   ]
  },
  {
   "cell_type": "code",
   "execution_count": 4,
   "id": "5fd22082",
   "metadata": {},
   "outputs": [
    {
     "data": {
      "text/html": [
       "<div>\n",
       "<style scoped>\n",
       "    .dataframe tbody tr th:only-of-type {\n",
       "        vertical-align: middle;\n",
       "    }\n",
       "\n",
       "    .dataframe tbody tr th {\n",
       "        vertical-align: top;\n",
       "    }\n",
       "\n",
       "    .dataframe thead th {\n",
       "        text-align: right;\n",
       "    }\n",
       "</style>\n",
       "<table border=\"1\" class=\"dataframe\">\n",
       "  <thead>\n",
       "    <tr style=\"text-align: right;\">\n",
       "      <th></th>\n",
       "      <th>Employee_Name</th>\n",
       "      <th>EmpID</th>\n",
       "      <th>MarriedID</th>\n",
       "      <th>MaritalStatusID</th>\n",
       "      <th>GenderID</th>\n",
       "      <th>EmpStatusID</th>\n",
       "      <th>DeptID</th>\n",
       "      <th>PerfScoreID</th>\n",
       "      <th>FromDiversityJobFairID</th>\n",
       "      <th>Salary</th>\n",
       "      <th>...</th>\n",
       "      <th>ManagerName</th>\n",
       "      <th>ManagerID</th>\n",
       "      <th>RecruitmentSource</th>\n",
       "      <th>PerformanceScore</th>\n",
       "      <th>EngagementSurvey</th>\n",
       "      <th>EmpSatisfaction</th>\n",
       "      <th>SpecialProjectsCount</th>\n",
       "      <th>LastPerformanceReview_Date</th>\n",
       "      <th>DaysLateLast30</th>\n",
       "      <th>Absences</th>\n",
       "    </tr>\n",
       "  </thead>\n",
       "  <tbody>\n",
       "    <tr>\n",
       "      <th>0</th>\n",
       "      <td>Adinolfi, Wilson  K</td>\n",
       "      <td>10026</td>\n",
       "      <td>0</td>\n",
       "      <td>0</td>\n",
       "      <td>1</td>\n",
       "      <td>1</td>\n",
       "      <td>5</td>\n",
       "      <td>4</td>\n",
       "      <td>0</td>\n",
       "      <td>62506</td>\n",
       "      <td>...</td>\n",
       "      <td>Michael Albert</td>\n",
       "      <td>22.0</td>\n",
       "      <td>LinkedIn</td>\n",
       "      <td>Exceeds</td>\n",
       "      <td>4.60</td>\n",
       "      <td>5</td>\n",
       "      <td>0</td>\n",
       "      <td>1/17/2019</td>\n",
       "      <td>0</td>\n",
       "      <td>1</td>\n",
       "    </tr>\n",
       "    <tr>\n",
       "      <th>1</th>\n",
       "      <td>Ait Sidi, Karthikeyan</td>\n",
       "      <td>10084</td>\n",
       "      <td>1</td>\n",
       "      <td>1</td>\n",
       "      <td>1</td>\n",
       "      <td>5</td>\n",
       "      <td>3</td>\n",
       "      <td>3</td>\n",
       "      <td>0</td>\n",
       "      <td>104437</td>\n",
       "      <td>...</td>\n",
       "      <td>Simon Roup</td>\n",
       "      <td>4.0</td>\n",
       "      <td>Indeed</td>\n",
       "      <td>Fully Meets</td>\n",
       "      <td>4.96</td>\n",
       "      <td>3</td>\n",
       "      <td>6</td>\n",
       "      <td>2/24/2016</td>\n",
       "      <td>0</td>\n",
       "      <td>17</td>\n",
       "    </tr>\n",
       "    <tr>\n",
       "      <th>2</th>\n",
       "      <td>Akinkuolie, Sarah</td>\n",
       "      <td>10196</td>\n",
       "      <td>1</td>\n",
       "      <td>1</td>\n",
       "      <td>0</td>\n",
       "      <td>5</td>\n",
       "      <td>5</td>\n",
       "      <td>3</td>\n",
       "      <td>0</td>\n",
       "      <td>64955</td>\n",
       "      <td>...</td>\n",
       "      <td>Kissy Sullivan</td>\n",
       "      <td>20.0</td>\n",
       "      <td>LinkedIn</td>\n",
       "      <td>Fully Meets</td>\n",
       "      <td>3.02</td>\n",
       "      <td>3</td>\n",
       "      <td>0</td>\n",
       "      <td>5/15/2012</td>\n",
       "      <td>0</td>\n",
       "      <td>3</td>\n",
       "    </tr>\n",
       "    <tr>\n",
       "      <th>3</th>\n",
       "      <td>Alagbe,Trina</td>\n",
       "      <td>10088</td>\n",
       "      <td>1</td>\n",
       "      <td>1</td>\n",
       "      <td>0</td>\n",
       "      <td>1</td>\n",
       "      <td>5</td>\n",
       "      <td>3</td>\n",
       "      <td>0</td>\n",
       "      <td>64991</td>\n",
       "      <td>...</td>\n",
       "      <td>Elijiah Gray</td>\n",
       "      <td>16.0</td>\n",
       "      <td>Indeed</td>\n",
       "      <td>Fully Meets</td>\n",
       "      <td>4.84</td>\n",
       "      <td>5</td>\n",
       "      <td>0</td>\n",
       "      <td>1/3/2019</td>\n",
       "      <td>0</td>\n",
       "      <td>15</td>\n",
       "    </tr>\n",
       "    <tr>\n",
       "      <th>4</th>\n",
       "      <td>Anderson, Carol</td>\n",
       "      <td>10069</td>\n",
       "      <td>0</td>\n",
       "      <td>2</td>\n",
       "      <td>0</td>\n",
       "      <td>5</td>\n",
       "      <td>5</td>\n",
       "      <td>3</td>\n",
       "      <td>0</td>\n",
       "      <td>50825</td>\n",
       "      <td>...</td>\n",
       "      <td>Webster Butler</td>\n",
       "      <td>39.0</td>\n",
       "      <td>Google Search</td>\n",
       "      <td>Fully Meets</td>\n",
       "      <td>5.00</td>\n",
       "      <td>4</td>\n",
       "      <td>0</td>\n",
       "      <td>2/1/2016</td>\n",
       "      <td>0</td>\n",
       "      <td>2</td>\n",
       "    </tr>\n",
       "  </tbody>\n",
       "</table>\n",
       "<p>5 rows × 36 columns</p>\n",
       "</div>"
      ],
      "text/plain": [
       "              Employee_Name  EmpID  MarriedID  MaritalStatusID  GenderID  \\\n",
       "0       Adinolfi, Wilson  K  10026          0                0         1   \n",
       "1  Ait Sidi, Karthikeyan     10084          1                1         1   \n",
       "2         Akinkuolie, Sarah  10196          1                1         0   \n",
       "3              Alagbe,Trina  10088          1                1         0   \n",
       "4          Anderson, Carol   10069          0                2         0   \n",
       "\n",
       "   EmpStatusID  DeptID  PerfScoreID  FromDiversityJobFairID  Salary  ...  \\\n",
       "0            1       5            4                       0   62506  ...   \n",
       "1            5       3            3                       0  104437  ...   \n",
       "2            5       5            3                       0   64955  ...   \n",
       "3            1       5            3                       0   64991  ...   \n",
       "4            5       5            3                       0   50825  ...   \n",
       "\n",
       "      ManagerName  ManagerID RecruitmentSource PerformanceScore  \\\n",
       "0  Michael Albert       22.0          LinkedIn          Exceeds   \n",
       "1      Simon Roup        4.0            Indeed      Fully Meets   \n",
       "2  Kissy Sullivan       20.0          LinkedIn      Fully Meets   \n",
       "3    Elijiah Gray       16.0            Indeed      Fully Meets   \n",
       "4  Webster Butler       39.0     Google Search      Fully Meets   \n",
       "\n",
       "   EngagementSurvey EmpSatisfaction SpecialProjectsCount  \\\n",
       "0              4.60               5                    0   \n",
       "1              4.96               3                    6   \n",
       "2              3.02               3                    0   \n",
       "3              4.84               5                    0   \n",
       "4              5.00               4                    0   \n",
       "\n",
       "  LastPerformanceReview_Date DaysLateLast30 Absences  \n",
       "0                  1/17/2019              0        1  \n",
       "1                  2/24/2016              0       17  \n",
       "2                  5/15/2012              0        3  \n",
       "3                   1/3/2019              0       15  \n",
       "4                   2/1/2016              0        2  \n",
       "\n",
       "[5 rows x 36 columns]"
      ]
     },
     "execution_count": 4,
     "metadata": {},
     "output_type": "execute_result"
    }
   ],
   "source": [
    "hr_df.head(5)"
   ]
  },
  {
   "cell_type": "markdown",
   "id": "c69a5c1c",
   "metadata": {},
   "source": [
    "## Exploratory Data Analysis"
   ]
  },
  {
   "cell_type": "markdown",
   "id": "9cdb45e3",
   "metadata": {},
   "source": [
    "#### Checking Dataset Dimensions"
   ]
  },
  {
   "cell_type": "code",
   "execution_count": 5,
   "id": "bbbe70d2",
   "metadata": {},
   "outputs": [
    {
     "data": {
      "text/plain": [
       "(311, 36)"
      ]
     },
     "execution_count": 5,
     "metadata": {},
     "output_type": "execute_result"
    }
   ],
   "source": [
    "hr_df.shape"
   ]
  },
  {
   "cell_type": "markdown",
   "id": "6b495bc0",
   "metadata": {},
   "source": [
    "Number of rows : 311 Number of columns: 36"
   ]
  },
  {
   "cell_type": "markdown",
   "id": "2b023d91",
   "metadata": {},
   "source": [
    "#### Basic information about the dataset and data types"
   ]
  },
  {
   "cell_type": "code",
   "execution_count": 6,
   "id": "c8a7a5a3",
   "metadata": {},
   "outputs": [
    {
     "name": "stdout",
     "output_type": "stream",
     "text": [
      "<class 'pandas.core.frame.DataFrame'>\n",
      "RangeIndex: 311 entries, 0 to 310\n",
      "Data columns (total 36 columns):\n",
      " #   Column                      Non-Null Count  Dtype  \n",
      "---  ------                      --------------  -----  \n",
      " 0   Employee_Name               311 non-null    object \n",
      " 1   EmpID                       311 non-null    int64  \n",
      " 2   MarriedID                   311 non-null    int64  \n",
      " 3   MaritalStatusID             311 non-null    int64  \n",
      " 4   GenderID                    311 non-null    int64  \n",
      " 5   EmpStatusID                 311 non-null    int64  \n",
      " 6   DeptID                      311 non-null    int64  \n",
      " 7   PerfScoreID                 311 non-null    int64  \n",
      " 8   FromDiversityJobFairID      311 non-null    int64  \n",
      " 9   Salary                      311 non-null    int64  \n",
      " 10  Termd                       311 non-null    int64  \n",
      " 11  PositionID                  311 non-null    int64  \n",
      " 12  Position                    311 non-null    object \n",
      " 13  State                       311 non-null    object \n",
      " 14  Zip                         311 non-null    int64  \n",
      " 15  DOB                         311 non-null    object \n",
      " 16  Sex                         311 non-null    object \n",
      " 17  MaritalDesc                 311 non-null    object \n",
      " 18  CitizenDesc                 311 non-null    object \n",
      " 19  HispanicLatino              311 non-null    object \n",
      " 20  RaceDesc                    311 non-null    object \n",
      " 21  DateofHire                  311 non-null    object \n",
      " 22  DateofTermination           104 non-null    object \n",
      " 23  TermReason                  311 non-null    object \n",
      " 24  EmploymentStatus            311 non-null    object \n",
      " 25  Department                  311 non-null    object \n",
      " 26  ManagerName                 311 non-null    object \n",
      " 27  ManagerID                   303 non-null    float64\n",
      " 28  RecruitmentSource           311 non-null    object \n",
      " 29  PerformanceScore            311 non-null    object \n",
      " 30  EngagementSurvey            311 non-null    float64\n",
      " 31  EmpSatisfaction             311 non-null    int64  \n",
      " 32  SpecialProjectsCount        311 non-null    int64  \n",
      " 33  LastPerformanceReview_Date  311 non-null    object \n",
      " 34  DaysLateLast30              311 non-null    int64  \n",
      " 35  Absences                    311 non-null    int64  \n",
      "dtypes: float64(2), int64(16), object(18)\n",
      "memory usage: 87.6+ KB\n"
     ]
    }
   ],
   "source": [
    "hr_df.info()"
   ]
  },
  {
   "cell_type": "markdown",
   "id": "6d6a67bc",
   "metadata": {},
   "source": [
    "Out of 311 total employee records, the DateofTermination column contains 104 missing values. The ManagerID column has 303 non-null entries, suggesting that 8 records are missing manager assignment information. All other columns in the dataset are complete, containing no missing values."
   ]
  },
  {
   "cell_type": "code",
   "execution_count": 7,
   "id": "1430cfa4",
   "metadata": {},
   "outputs": [
    {
     "data": {
      "text/plain": [
       "Employee_Name                  object\n",
       "EmpID                           int64\n",
       "MarriedID                       int64\n",
       "MaritalStatusID                 int64\n",
       "GenderID                        int64\n",
       "EmpStatusID                     int64\n",
       "DeptID                          int64\n",
       "PerfScoreID                     int64\n",
       "FromDiversityJobFairID          int64\n",
       "Salary                          int64\n",
       "Termd                           int64\n",
       "PositionID                      int64\n",
       "Position                       object\n",
       "State                          object\n",
       "Zip                             int64\n",
       "DOB                            object\n",
       "Sex                            object\n",
       "MaritalDesc                    object\n",
       "CitizenDesc                    object\n",
       "HispanicLatino                 object\n",
       "RaceDesc                       object\n",
       "DateofHire                     object\n",
       "DateofTermination              object\n",
       "TermReason                     object\n",
       "EmploymentStatus               object\n",
       "Department                     object\n",
       "ManagerName                    object\n",
       "ManagerID                     float64\n",
       "RecruitmentSource              object\n",
       "PerformanceScore               object\n",
       "EngagementSurvey              float64\n",
       "EmpSatisfaction                 int64\n",
       "SpecialProjectsCount            int64\n",
       "LastPerformanceReview_Date     object\n",
       "DaysLateLast30                  int64\n",
       "Absences                        int64\n",
       "dtype: object"
      ]
     },
     "execution_count": 7,
     "metadata": {},
     "output_type": "execute_result"
    }
   ],
   "source": [
    "hr_df.dtypes"
   ]
  },
  {
   "cell_type": "markdown",
   "id": "7346f9c1",
   "metadata": {},
   "source": [
    "Converting `DOB` , `DateofHire` , `DateofTermination`, `LastPerformanceReview_Date` to datetime format, to calculate age, tenure, time between events, and do time-based filtering / grouping.\n",
    "\n"
   ]
  },
  {
   "cell_type": "code",
   "execution_count": 8,
   "id": "e832c243",
   "metadata": {},
   "outputs": [
    {
     "name": "stderr",
     "output_type": "stream",
     "text": [
      "/var/folders/jb/j64cnvc1129dnzfhx6cqpc580000gn/T/ipykernel_44434/2890350365.py:1: UserWarning: Could not infer format, so each element will be parsed individually, falling back to `dateutil`. To ensure parsing is consistent and as-expected, please specify a format.\n",
      "  hr_df['DOB'] = pd.to_datetime(hr_df['DOB'])\n"
     ]
    }
   ],
   "source": [
    "hr_df['DOB'] = pd.to_datetime(hr_df['DOB'])\n",
    "hr_df['DateofHire'] = pd.to_datetime(hr_df['DateofHire'])\n",
    "hr_df['DateofTermination'] = pd.to_datetime(hr_df['DateofTermination'])\n",
    "hr_df['LastPerformanceReview_Date'] = pd.to_datetime(hr_df['LastPerformanceReview_Date'])"
   ]
  },
  {
   "cell_type": "code",
   "execution_count": 9,
   "id": "0a322a1d",
   "metadata": {},
   "outputs": [
    {
     "data": {
      "text/plain": [
       "Employee_Name                         object\n",
       "EmpID                                  int64\n",
       "MarriedID                              int64\n",
       "MaritalStatusID                        int64\n",
       "GenderID                               int64\n",
       "EmpStatusID                            int64\n",
       "DeptID                                 int64\n",
       "PerfScoreID                            int64\n",
       "FromDiversityJobFairID                 int64\n",
       "Salary                                 int64\n",
       "Termd                                  int64\n",
       "PositionID                             int64\n",
       "Position                              object\n",
       "State                                 object\n",
       "Zip                                    int64\n",
       "DOB                           datetime64[ns]\n",
       "Sex                                   object\n",
       "MaritalDesc                           object\n",
       "CitizenDesc                           object\n",
       "HispanicLatino                        object\n",
       "RaceDesc                              object\n",
       "DateofHire                    datetime64[ns]\n",
       "DateofTermination             datetime64[ns]\n",
       "TermReason                            object\n",
       "EmploymentStatus                      object\n",
       "Department                            object\n",
       "ManagerName                           object\n",
       "ManagerID                            float64\n",
       "RecruitmentSource                     object\n",
       "PerformanceScore                      object\n",
       "EngagementSurvey                     float64\n",
       "EmpSatisfaction                        int64\n",
       "SpecialProjectsCount                   int64\n",
       "LastPerformanceReview_Date    datetime64[ns]\n",
       "DaysLateLast30                         int64\n",
       "Absences                               int64\n",
       "dtype: object"
      ]
     },
     "execution_count": 9,
     "metadata": {},
     "output_type": "execute_result"
    }
   ],
   "source": [
    "# validating dtypes\n",
    "\n",
    "hr_df.dtypes"
   ]
  },
  {
   "cell_type": "markdown",
   "id": "57071c19",
   "metadata": {},
   "source": [
    "Data Quality Check: Missing Values and Duplicates"
   ]
  },
  {
   "cell_type": "code",
   "execution_count": 10,
   "id": "7fb1a245",
   "metadata": {},
   "outputs": [
    {
     "data": {
      "text/plain": [
       "Employee_Name                   0\n",
       "EmpID                           0\n",
       "MarriedID                       0\n",
       "MaritalStatusID                 0\n",
       "GenderID                        0\n",
       "EmpStatusID                     0\n",
       "DeptID                          0\n",
       "PerfScoreID                     0\n",
       "FromDiversityJobFairID          0\n",
       "Salary                          0\n",
       "Termd                           0\n",
       "PositionID                      0\n",
       "Position                        0\n",
       "State                           0\n",
       "Zip                             0\n",
       "DOB                             0\n",
       "Sex                             0\n",
       "MaritalDesc                     0\n",
       "CitizenDesc                     0\n",
       "HispanicLatino                  0\n",
       "RaceDesc                        0\n",
       "DateofHire                      0\n",
       "DateofTermination             207\n",
       "TermReason                      0\n",
       "EmploymentStatus                0\n",
       "Department                      0\n",
       "ManagerName                     0\n",
       "ManagerID                       8\n",
       "RecruitmentSource               0\n",
       "PerformanceScore                0\n",
       "EngagementSurvey                0\n",
       "EmpSatisfaction                 0\n",
       "SpecialProjectsCount            0\n",
       "LastPerformanceReview_Date      0\n",
       "DaysLateLast30                  0\n",
       "Absences                        0\n",
       "dtype: int64"
      ]
     },
     "execution_count": 10,
     "metadata": {},
     "output_type": "execute_result"
    }
   ],
   "source": [
    "# checking missing values\n",
    "\n",
    "hr_df.isnull().sum()"
   ]
  },
  {
   "cell_type": "markdown",
   "id": "131ded9b",
   "metadata": {},
   "source": [
    "The `DateofTermination` column contains 207 missing values out of 311 records, Since this column primarily applies to a minority of past employees and is not essential for the current analysis, it will be dropped from the dataset to simplify processing.\n",
    "\n",
    "The `ManagerID` column has 8 missing values. To maintain consistency and avoid null-related issues during analysis, the missing entries will be filled with 0 as a placeholder, indicating absence of a recorded manager."
   ]
  },
  {
   "cell_type": "code",
   "execution_count": 11,
   "id": "3a2c8657",
   "metadata": {},
   "outputs": [],
   "source": [
    "# drop DateofTermination column\n",
    "hr_df.drop(columns = 'DateofTermination', inplace = True)"
   ]
  },
  {
   "cell_type": "code",
   "execution_count": 12,
   "id": "22f945d3",
   "metadata": {},
   "outputs": [
    {
     "data": {
      "text/html": [
       "<div>\n",
       "<style scoped>\n",
       "    .dataframe tbody tr th:only-of-type {\n",
       "        vertical-align: middle;\n",
       "    }\n",
       "\n",
       "    .dataframe tbody tr th {\n",
       "        vertical-align: top;\n",
       "    }\n",
       "\n",
       "    .dataframe thead th {\n",
       "        text-align: right;\n",
       "    }\n",
       "</style>\n",
       "<table border=\"1\" class=\"dataframe\">\n",
       "  <thead>\n",
       "    <tr style=\"text-align: right;\">\n",
       "      <th></th>\n",
       "      <th>Employee_Name</th>\n",
       "      <th>EmpID</th>\n",
       "      <th>MarriedID</th>\n",
       "      <th>MaritalStatusID</th>\n",
       "      <th>GenderID</th>\n",
       "      <th>EmpStatusID</th>\n",
       "      <th>DeptID</th>\n",
       "      <th>PerfScoreID</th>\n",
       "      <th>FromDiversityJobFairID</th>\n",
       "      <th>Salary</th>\n",
       "      <th>...</th>\n",
       "      <th>ManagerName</th>\n",
       "      <th>ManagerID</th>\n",
       "      <th>RecruitmentSource</th>\n",
       "      <th>PerformanceScore</th>\n",
       "      <th>EngagementSurvey</th>\n",
       "      <th>EmpSatisfaction</th>\n",
       "      <th>SpecialProjectsCount</th>\n",
       "      <th>LastPerformanceReview_Date</th>\n",
       "      <th>DaysLateLast30</th>\n",
       "      <th>Absences</th>\n",
       "    </tr>\n",
       "  </thead>\n",
       "  <tbody>\n",
       "    <tr>\n",
       "      <th>19</th>\n",
       "      <td>Becker, Scott</td>\n",
       "      <td>10277</td>\n",
       "      <td>0</td>\n",
       "      <td>0</td>\n",
       "      <td>1</td>\n",
       "      <td>3</td>\n",
       "      <td>5</td>\n",
       "      <td>3</td>\n",
       "      <td>0</td>\n",
       "      <td>53250</td>\n",
       "      <td>...</td>\n",
       "      <td>Webster Butler</td>\n",
       "      <td>NaN</td>\n",
       "      <td>LinkedIn</td>\n",
       "      <td>Fully Meets</td>\n",
       "      <td>4.20</td>\n",
       "      <td>4</td>\n",
       "      <td>0</td>\n",
       "      <td>2019-01-11</td>\n",
       "      <td>0</td>\n",
       "      <td>13</td>\n",
       "    </tr>\n",
       "    <tr>\n",
       "      <th>30</th>\n",
       "      <td>Buccheri, Joseph</td>\n",
       "      <td>10184</td>\n",
       "      <td>0</td>\n",
       "      <td>0</td>\n",
       "      <td>1</td>\n",
       "      <td>1</td>\n",
       "      <td>5</td>\n",
       "      <td>3</td>\n",
       "      <td>0</td>\n",
       "      <td>65288</td>\n",
       "      <td>...</td>\n",
       "      <td>Webster Butler</td>\n",
       "      <td>NaN</td>\n",
       "      <td>Google Search</td>\n",
       "      <td>Fully Meets</td>\n",
       "      <td>3.19</td>\n",
       "      <td>3</td>\n",
       "      <td>0</td>\n",
       "      <td>2019-02-01</td>\n",
       "      <td>0</td>\n",
       "      <td>9</td>\n",
       "    </tr>\n",
       "    <tr>\n",
       "      <th>44</th>\n",
       "      <td>Chang, Donovan  E</td>\n",
       "      <td>10154</td>\n",
       "      <td>0</td>\n",
       "      <td>0</td>\n",
       "      <td>1</td>\n",
       "      <td>1</td>\n",
       "      <td>5</td>\n",
       "      <td>3</td>\n",
       "      <td>0</td>\n",
       "      <td>60380</td>\n",
       "      <td>...</td>\n",
       "      <td>Webster Butler</td>\n",
       "      <td>NaN</td>\n",
       "      <td>LinkedIn</td>\n",
       "      <td>Fully Meets</td>\n",
       "      <td>3.80</td>\n",
       "      <td>5</td>\n",
       "      <td>0</td>\n",
       "      <td>2019-01-14</td>\n",
       "      <td>0</td>\n",
       "      <td>4</td>\n",
       "    </tr>\n",
       "    <tr>\n",
       "      <th>88</th>\n",
       "      <td>Fancett, Nicole</td>\n",
       "      <td>10136</td>\n",
       "      <td>0</td>\n",
       "      <td>0</td>\n",
       "      <td>0</td>\n",
       "      <td>1</td>\n",
       "      <td>5</td>\n",
       "      <td>3</td>\n",
       "      <td>0</td>\n",
       "      <td>65902</td>\n",
       "      <td>...</td>\n",
       "      <td>Webster Butler</td>\n",
       "      <td>NaN</td>\n",
       "      <td>LinkedIn</td>\n",
       "      <td>Fully Meets</td>\n",
       "      <td>4.00</td>\n",
       "      <td>4</td>\n",
       "      <td>0</td>\n",
       "      <td>2019-01-07</td>\n",
       "      <td>0</td>\n",
       "      <td>7</td>\n",
       "    </tr>\n",
       "    <tr>\n",
       "      <th>135</th>\n",
       "      <td>Hutter, Rosalie</td>\n",
       "      <td>10214</td>\n",
       "      <td>0</td>\n",
       "      <td>3</td>\n",
       "      <td>0</td>\n",
       "      <td>2</td>\n",
       "      <td>5</td>\n",
       "      <td>3</td>\n",
       "      <td>0</td>\n",
       "      <td>64995</td>\n",
       "      <td>...</td>\n",
       "      <td>Webster Butler</td>\n",
       "      <td>NaN</td>\n",
       "      <td>Indeed</td>\n",
       "      <td>Fully Meets</td>\n",
       "      <td>4.50</td>\n",
       "      <td>3</td>\n",
       "      <td>0</td>\n",
       "      <td>2019-02-14</td>\n",
       "      <td>0</td>\n",
       "      <td>6</td>\n",
       "    </tr>\n",
       "    <tr>\n",
       "      <th>177</th>\n",
       "      <td>Manchester, Robyn</td>\n",
       "      <td>10077</td>\n",
       "      <td>1</td>\n",
       "      <td>1</td>\n",
       "      <td>0</td>\n",
       "      <td>2</td>\n",
       "      <td>5</td>\n",
       "      <td>3</td>\n",
       "      <td>0</td>\n",
       "      <td>62385</td>\n",
       "      <td>...</td>\n",
       "      <td>Webster Butler</td>\n",
       "      <td>NaN</td>\n",
       "      <td>LinkedIn</td>\n",
       "      <td>Fully Meets</td>\n",
       "      <td>5.00</td>\n",
       "      <td>3</td>\n",
       "      <td>0</td>\n",
       "      <td>2019-01-21</td>\n",
       "      <td>0</td>\n",
       "      <td>4</td>\n",
       "    </tr>\n",
       "    <tr>\n",
       "      <th>232</th>\n",
       "      <td>Rivera, Haley</td>\n",
       "      <td>10011</td>\n",
       "      <td>1</td>\n",
       "      <td>1</td>\n",
       "      <td>0</td>\n",
       "      <td>1</td>\n",
       "      <td>5</td>\n",
       "      <td>4</td>\n",
       "      <td>0</td>\n",
       "      <td>46738</td>\n",
       "      <td>...</td>\n",
       "      <td>Webster Butler</td>\n",
       "      <td>NaN</td>\n",
       "      <td>Google Search</td>\n",
       "      <td>Exceeds</td>\n",
       "      <td>4.36</td>\n",
       "      <td>5</td>\n",
       "      <td>0</td>\n",
       "      <td>2019-02-11</td>\n",
       "      <td>0</td>\n",
       "      <td>16</td>\n",
       "    </tr>\n",
       "    <tr>\n",
       "      <th>251</th>\n",
       "      <td>Sewkumar, Nori</td>\n",
       "      <td>10071</td>\n",
       "      <td>0</td>\n",
       "      <td>0</td>\n",
       "      <td>0</td>\n",
       "      <td>3</td>\n",
       "      <td>5</td>\n",
       "      <td>3</td>\n",
       "      <td>0</td>\n",
       "      <td>50923</td>\n",
       "      <td>...</td>\n",
       "      <td>Webster Butler</td>\n",
       "      <td>NaN</td>\n",
       "      <td>Google Search</td>\n",
       "      <td>Fully Meets</td>\n",
       "      <td>5.00</td>\n",
       "      <td>5</td>\n",
       "      <td>0</td>\n",
       "      <td>2019-02-06</td>\n",
       "      <td>0</td>\n",
       "      <td>14</td>\n",
       "    </tr>\n",
       "  </tbody>\n",
       "</table>\n",
       "<p>8 rows × 35 columns</p>\n",
       "</div>"
      ],
      "text/plain": [
       "          Employee_Name  EmpID  MarriedID  MaritalStatusID  GenderID  \\\n",
       "19        Becker, Scott  10277          0                0         1   \n",
       "30   Buccheri, Joseph    10184          0                0         1   \n",
       "44    Chang, Donovan  E  10154          0                0         1   \n",
       "88      Fancett, Nicole  10136          0                0         0   \n",
       "135     Hutter, Rosalie  10214          0                3         0   \n",
       "177   Manchester, Robyn  10077          1                1         0   \n",
       "232     Rivera, Haley    10011          1                1         0   \n",
       "251      Sewkumar, Nori  10071          0                0         0   \n",
       "\n",
       "     EmpStatusID  DeptID  PerfScoreID  FromDiversityJobFairID  Salary  ...  \\\n",
       "19             3       5            3                       0   53250  ...   \n",
       "30             1       5            3                       0   65288  ...   \n",
       "44             1       5            3                       0   60380  ...   \n",
       "88             1       5            3                       0   65902  ...   \n",
       "135            2       5            3                       0   64995  ...   \n",
       "177            2       5            3                       0   62385  ...   \n",
       "232            1       5            4                       0   46738  ...   \n",
       "251            3       5            3                       0   50923  ...   \n",
       "\n",
       "        ManagerName  ManagerID RecruitmentSource PerformanceScore  \\\n",
       "19   Webster Butler        NaN          LinkedIn      Fully Meets   \n",
       "30   Webster Butler        NaN     Google Search      Fully Meets   \n",
       "44   Webster Butler        NaN          LinkedIn      Fully Meets   \n",
       "88   Webster Butler        NaN          LinkedIn      Fully Meets   \n",
       "135  Webster Butler        NaN            Indeed      Fully Meets   \n",
       "177  Webster Butler        NaN          LinkedIn      Fully Meets   \n",
       "232  Webster Butler        NaN     Google Search          Exceeds   \n",
       "251  Webster Butler        NaN     Google Search      Fully Meets   \n",
       "\n",
       "     EngagementSurvey EmpSatisfaction SpecialProjectsCount  \\\n",
       "19               4.20               4                    0   \n",
       "30               3.19               3                    0   \n",
       "44               3.80               5                    0   \n",
       "88               4.00               4                    0   \n",
       "135              4.50               3                    0   \n",
       "177              5.00               3                    0   \n",
       "232              4.36               5                    0   \n",
       "251              5.00               5                    0   \n",
       "\n",
       "    LastPerformanceReview_Date DaysLateLast30 Absences  \n",
       "19                  2019-01-11              0       13  \n",
       "30                  2019-02-01              0        9  \n",
       "44                  2019-01-14              0        4  \n",
       "88                  2019-01-07              0        7  \n",
       "135                 2019-02-14              0        6  \n",
       "177                 2019-01-21              0        4  \n",
       "232                 2019-02-11              0       16  \n",
       "251                 2019-02-06              0       14  \n",
       "\n",
       "[8 rows x 35 columns]"
      ]
     },
     "execution_count": 12,
     "metadata": {},
     "output_type": "execute_result"
    }
   ],
   "source": [
    "# checking column ManagerID - null value\n",
    "\n",
    "hr_df[hr_df['ManagerID'].isnull()]"
   ]
  },
  {
   "cell_type": "code",
   "execution_count": 13,
   "id": "65f4a710",
   "metadata": {},
   "outputs": [
    {
     "name": "stderr",
     "output_type": "stream",
     "text": [
      "/var/folders/jb/j64cnvc1129dnzfhx6cqpc580000gn/T/ipykernel_44434/2384275473.py:3: FutureWarning: A value is trying to be set on a copy of a DataFrame or Series through chained assignment using an inplace method.\n",
      "The behavior will change in pandas 3.0. This inplace method will never work because the intermediate object on which we are setting values always behaves as a copy.\n",
      "\n",
      "For example, when doing 'df[col].method(value, inplace=True)', try using 'df.method({col: value}, inplace=True)' or df[col] = df[col].method(value) instead, to perform the operation inplace on the original object.\n",
      "\n",
      "\n",
      "  hr_df['ManagerID'].fillna(0, inplace = True)\n"
     ]
    }
   ],
   "source": [
    "# filling null values with 0\n",
    "\n",
    "hr_df['ManagerID'].fillna(0, inplace = True)"
   ]
  },
  {
   "cell_type": "code",
   "execution_count": 14,
   "id": "f4777412",
   "metadata": {},
   "outputs": [
    {
     "data": {
      "text/plain": [
       "Employee_Name                 0\n",
       "EmpID                         0\n",
       "MarriedID                     0\n",
       "MaritalStatusID               0\n",
       "GenderID                      0\n",
       "EmpStatusID                   0\n",
       "DeptID                        0\n",
       "PerfScoreID                   0\n",
       "FromDiversityJobFairID        0\n",
       "Salary                        0\n",
       "Termd                         0\n",
       "PositionID                    0\n",
       "Position                      0\n",
       "State                         0\n",
       "Zip                           0\n",
       "DOB                           0\n",
       "Sex                           0\n",
       "MaritalDesc                   0\n",
       "CitizenDesc                   0\n",
       "HispanicLatino                0\n",
       "RaceDesc                      0\n",
       "DateofHire                    0\n",
       "TermReason                    0\n",
       "EmploymentStatus              0\n",
       "Department                    0\n",
       "ManagerName                   0\n",
       "ManagerID                     0\n",
       "RecruitmentSource             0\n",
       "PerformanceScore              0\n",
       "EngagementSurvey              0\n",
       "EmpSatisfaction               0\n",
       "SpecialProjectsCount          0\n",
       "LastPerformanceReview_Date    0\n",
       "DaysLateLast30                0\n",
       "Absences                      0\n",
       "dtype: int64"
      ]
     },
     "execution_count": 14,
     "metadata": {},
     "output_type": "execute_result"
    }
   ],
   "source": [
    "# Post-Cleaning Validation\n",
    "hr_df.isnull().sum()"
   ]
  },
  {
   "cell_type": "markdown",
   "id": "d56f39df",
   "metadata": {},
   "source": [
    "After dropping the DateofTermination column and filling the 8 missing ManagerID entries with 0, a check using .isnull().sum() confirmed that there are no remaining missing values in the dataset. All columns are now fully populated and ready for further analysis."
   ]
  },
  {
   "cell_type": "code",
   "execution_count": 15,
   "id": "bb4e6023",
   "metadata": {},
   "outputs": [
    {
     "data": {
      "text/plain": [
       "np.int64(0)"
      ]
     },
     "execution_count": 15,
     "metadata": {},
     "output_type": "execute_result"
    }
   ],
   "source": [
    "# Duplicates check\n",
    "\n",
    "hr_df.duplicated().sum()"
   ]
  },
  {
   "cell_type": "markdown",
   "id": "e98d9b0f",
   "metadata": {},
   "source": [
    "A check for duplicate records using .duplicated().sum() returned 0 duplicates, confirming that all rows in the dataset are unique. No further action is needed for duplicate handling."
   ]
  },
  {
   "cell_type": "markdown",
   "id": "35dd91ff",
   "metadata": {},
   "source": [
    "## Summary statistics"
   ]
  },
  {
   "cell_type": "code",
   "execution_count": 16,
   "id": "baa02506",
   "metadata": {},
   "outputs": [
    {
     "data": {
      "text/html": [
       "<div>\n",
       "<style scoped>\n",
       "    .dataframe tbody tr th:only-of-type {\n",
       "        vertical-align: middle;\n",
       "    }\n",
       "\n",
       "    .dataframe tbody tr th {\n",
       "        vertical-align: top;\n",
       "    }\n",
       "\n",
       "    .dataframe thead th {\n",
       "        text-align: right;\n",
       "    }\n",
       "</style>\n",
       "<table border=\"1\" class=\"dataframe\">\n",
       "  <thead>\n",
       "    <tr style=\"text-align: right;\">\n",
       "      <th></th>\n",
       "      <th>count</th>\n",
       "      <th>mean</th>\n",
       "      <th>min</th>\n",
       "      <th>25%</th>\n",
       "      <th>50%</th>\n",
       "      <th>75%</th>\n",
       "      <th>max</th>\n",
       "      <th>std</th>\n",
       "    </tr>\n",
       "  </thead>\n",
       "  <tbody>\n",
       "    <tr>\n",
       "      <th>EmpID</th>\n",
       "      <td>311.0</td>\n",
       "      <td>10156.0</td>\n",
       "      <td>10001.0</td>\n",
       "      <td>10078.5</td>\n",
       "      <td>10156.0</td>\n",
       "      <td>10233.5</td>\n",
       "      <td>10311.0</td>\n",
       "      <td>89.922189</td>\n",
       "    </tr>\n",
       "    <tr>\n",
       "      <th>MarriedID</th>\n",
       "      <td>311.0</td>\n",
       "      <td>0.398714</td>\n",
       "      <td>0.0</td>\n",
       "      <td>0.0</td>\n",
       "      <td>0.0</td>\n",
       "      <td>1.0</td>\n",
       "      <td>1.0</td>\n",
       "      <td>0.490423</td>\n",
       "    </tr>\n",
       "    <tr>\n",
       "      <th>MaritalStatusID</th>\n",
       "      <td>311.0</td>\n",
       "      <td>0.810289</td>\n",
       "      <td>0.0</td>\n",
       "      <td>0.0</td>\n",
       "      <td>1.0</td>\n",
       "      <td>1.0</td>\n",
       "      <td>4.0</td>\n",
       "      <td>0.943239</td>\n",
       "    </tr>\n",
       "    <tr>\n",
       "      <th>GenderID</th>\n",
       "      <td>311.0</td>\n",
       "      <td>0.434084</td>\n",
       "      <td>0.0</td>\n",
       "      <td>0.0</td>\n",
       "      <td>0.0</td>\n",
       "      <td>1.0</td>\n",
       "      <td>1.0</td>\n",
       "      <td>0.496435</td>\n",
       "    </tr>\n",
       "    <tr>\n",
       "      <th>EmpStatusID</th>\n",
       "      <td>311.0</td>\n",
       "      <td>2.392283</td>\n",
       "      <td>1.0</td>\n",
       "      <td>1.0</td>\n",
       "      <td>1.0</td>\n",
       "      <td>5.0</td>\n",
       "      <td>5.0</td>\n",
       "      <td>1.794383</td>\n",
       "    </tr>\n",
       "    <tr>\n",
       "      <th>DeptID</th>\n",
       "      <td>311.0</td>\n",
       "      <td>4.610932</td>\n",
       "      <td>1.0</td>\n",
       "      <td>5.0</td>\n",
       "      <td>5.0</td>\n",
       "      <td>5.0</td>\n",
       "      <td>6.0</td>\n",
       "      <td>1.083487</td>\n",
       "    </tr>\n",
       "    <tr>\n",
       "      <th>PerfScoreID</th>\n",
       "      <td>311.0</td>\n",
       "      <td>2.977492</td>\n",
       "      <td>1.0</td>\n",
       "      <td>3.0</td>\n",
       "      <td>3.0</td>\n",
       "      <td>3.0</td>\n",
       "      <td>4.0</td>\n",
       "      <td>0.587072</td>\n",
       "    </tr>\n",
       "    <tr>\n",
       "      <th>FromDiversityJobFairID</th>\n",
       "      <td>311.0</td>\n",
       "      <td>0.093248</td>\n",
       "      <td>0.0</td>\n",
       "      <td>0.0</td>\n",
       "      <td>0.0</td>\n",
       "      <td>0.0</td>\n",
       "      <td>1.0</td>\n",
       "      <td>0.291248</td>\n",
       "    </tr>\n",
       "    <tr>\n",
       "      <th>Salary</th>\n",
       "      <td>311.0</td>\n",
       "      <td>69020.684887</td>\n",
       "      <td>45046.0</td>\n",
       "      <td>55501.5</td>\n",
       "      <td>62810.0</td>\n",
       "      <td>72036.0</td>\n",
       "      <td>250000.0</td>\n",
       "      <td>25156.63693</td>\n",
       "    </tr>\n",
       "    <tr>\n",
       "      <th>Termd</th>\n",
       "      <td>311.0</td>\n",
       "      <td>0.334405</td>\n",
       "      <td>0.0</td>\n",
       "      <td>0.0</td>\n",
       "      <td>0.0</td>\n",
       "      <td>1.0</td>\n",
       "      <td>1.0</td>\n",
       "      <td>0.472542</td>\n",
       "    </tr>\n",
       "    <tr>\n",
       "      <th>PositionID</th>\n",
       "      <td>311.0</td>\n",
       "      <td>16.845659</td>\n",
       "      <td>1.0</td>\n",
       "      <td>18.0</td>\n",
       "      <td>19.0</td>\n",
       "      <td>20.0</td>\n",
       "      <td>30.0</td>\n",
       "      <td>6.223419</td>\n",
       "    </tr>\n",
       "    <tr>\n",
       "      <th>Zip</th>\n",
       "      <td>311.0</td>\n",
       "      <td>6555.482315</td>\n",
       "      <td>1013.0</td>\n",
       "      <td>1901.5</td>\n",
       "      <td>2132.0</td>\n",
       "      <td>2355.0</td>\n",
       "      <td>98052.0</td>\n",
       "      <td>16908.396884</td>\n",
       "    </tr>\n",
       "    <tr>\n",
       "      <th>DOB</th>\n",
       "      <td>311</td>\n",
       "      <td>2008-05-11 18:54:24.308681728</td>\n",
       "      <td>1975-03-10 00:00:00</td>\n",
       "      <td>1981-11-09 00:00:00</td>\n",
       "      <td>1986-11-07 00:00:00</td>\n",
       "      <td>2060-07-19 00:00:00</td>\n",
       "      <td>2074-12-21 00:00:00</td>\n",
       "      <td>NaN</td>\n",
       "    </tr>\n",
       "    <tr>\n",
       "      <th>DateofHire</th>\n",
       "      <td>311</td>\n",
       "      <td>2013-02-03 22:50:32.797427712</td>\n",
       "      <td>2006-01-09 00:00:00</td>\n",
       "      <td>2011-07-11 00:00:00</td>\n",
       "      <td>2013-02-18 00:00:00</td>\n",
       "      <td>2014-09-23 12:00:00</td>\n",
       "      <td>2018-07-09 00:00:00</td>\n",
       "      <td>NaN</td>\n",
       "    </tr>\n",
       "    <tr>\n",
       "      <th>ManagerID</th>\n",
       "      <td>311.0</td>\n",
       "      <td>14.196141</td>\n",
       "      <td>0.0</td>\n",
       "      <td>9.5</td>\n",
       "      <td>14.0</td>\n",
       "      <td>19.0</td>\n",
       "      <td>39.0</td>\n",
       "      <td>8.301386</td>\n",
       "    </tr>\n",
       "    <tr>\n",
       "      <th>EngagementSurvey</th>\n",
       "      <td>311.0</td>\n",
       "      <td>4.11</td>\n",
       "      <td>1.12</td>\n",
       "      <td>3.69</td>\n",
       "      <td>4.28</td>\n",
       "      <td>4.7</td>\n",
       "      <td>5.0</td>\n",
       "      <td>0.789938</td>\n",
       "    </tr>\n",
       "    <tr>\n",
       "      <th>EmpSatisfaction</th>\n",
       "      <td>311.0</td>\n",
       "      <td>3.890675</td>\n",
       "      <td>1.0</td>\n",
       "      <td>3.0</td>\n",
       "      <td>4.0</td>\n",
       "      <td>5.0</td>\n",
       "      <td>5.0</td>\n",
       "      <td>0.909241</td>\n",
       "    </tr>\n",
       "    <tr>\n",
       "      <th>SpecialProjectsCount</th>\n",
       "      <td>311.0</td>\n",
       "      <td>1.21865</td>\n",
       "      <td>0.0</td>\n",
       "      <td>0.0</td>\n",
       "      <td>0.0</td>\n",
       "      <td>0.0</td>\n",
       "      <td>8.0</td>\n",
       "      <td>2.349421</td>\n",
       "    </tr>\n",
       "    <tr>\n",
       "      <th>LastPerformanceReview_Date</th>\n",
       "      <td>311</td>\n",
       "      <td>2017-09-10 21:17:56.527331072</td>\n",
       "      <td>2010-07-14 00:00:00</td>\n",
       "      <td>2016-03-19 12:00:00</td>\n",
       "      <td>2019-01-16 00:00:00</td>\n",
       "      <td>2019-02-04 00:00:00</td>\n",
       "      <td>2019-02-28 00:00:00</td>\n",
       "      <td>NaN</td>\n",
       "    </tr>\n",
       "    <tr>\n",
       "      <th>DaysLateLast30</th>\n",
       "      <td>311.0</td>\n",
       "      <td>0.414791</td>\n",
       "      <td>0.0</td>\n",
       "      <td>0.0</td>\n",
       "      <td>0.0</td>\n",
       "      <td>0.0</td>\n",
       "      <td>6.0</td>\n",
       "      <td>1.294519</td>\n",
       "    </tr>\n",
       "    <tr>\n",
       "      <th>Absences</th>\n",
       "      <td>311.0</td>\n",
       "      <td>10.237942</td>\n",
       "      <td>1.0</td>\n",
       "      <td>5.0</td>\n",
       "      <td>10.0</td>\n",
       "      <td>15.0</td>\n",
       "      <td>20.0</td>\n",
       "      <td>5.852596</td>\n",
       "    </tr>\n",
       "  </tbody>\n",
       "</table>\n",
       "</div>"
      ],
      "text/plain": [
       "                            count                           mean  \\\n",
       "EmpID                       311.0                        10156.0   \n",
       "MarriedID                   311.0                       0.398714   \n",
       "MaritalStatusID             311.0                       0.810289   \n",
       "GenderID                    311.0                       0.434084   \n",
       "EmpStatusID                 311.0                       2.392283   \n",
       "DeptID                      311.0                       4.610932   \n",
       "PerfScoreID                 311.0                       2.977492   \n",
       "FromDiversityJobFairID      311.0                       0.093248   \n",
       "Salary                      311.0                   69020.684887   \n",
       "Termd                       311.0                       0.334405   \n",
       "PositionID                  311.0                      16.845659   \n",
       "Zip                         311.0                    6555.482315   \n",
       "DOB                           311  2008-05-11 18:54:24.308681728   \n",
       "DateofHire                    311  2013-02-03 22:50:32.797427712   \n",
       "ManagerID                   311.0                      14.196141   \n",
       "EngagementSurvey            311.0                           4.11   \n",
       "EmpSatisfaction             311.0                       3.890675   \n",
       "SpecialProjectsCount        311.0                        1.21865   \n",
       "LastPerformanceReview_Date    311  2017-09-10 21:17:56.527331072   \n",
       "DaysLateLast30              311.0                       0.414791   \n",
       "Absences                    311.0                      10.237942   \n",
       "\n",
       "                                            min                  25%  \\\n",
       "EmpID                                   10001.0              10078.5   \n",
       "MarriedID                                   0.0                  0.0   \n",
       "MaritalStatusID                             0.0                  0.0   \n",
       "GenderID                                    0.0                  0.0   \n",
       "EmpStatusID                                 1.0                  1.0   \n",
       "DeptID                                      1.0                  5.0   \n",
       "PerfScoreID                                 1.0                  3.0   \n",
       "FromDiversityJobFairID                      0.0                  0.0   \n",
       "Salary                                  45046.0              55501.5   \n",
       "Termd                                       0.0                  0.0   \n",
       "PositionID                                  1.0                 18.0   \n",
       "Zip                                      1013.0               1901.5   \n",
       "DOB                         1975-03-10 00:00:00  1981-11-09 00:00:00   \n",
       "DateofHire                  2006-01-09 00:00:00  2011-07-11 00:00:00   \n",
       "ManagerID                                   0.0                  9.5   \n",
       "EngagementSurvey                           1.12                 3.69   \n",
       "EmpSatisfaction                             1.0                  3.0   \n",
       "SpecialProjectsCount                        0.0                  0.0   \n",
       "LastPerformanceReview_Date  2010-07-14 00:00:00  2016-03-19 12:00:00   \n",
       "DaysLateLast30                              0.0                  0.0   \n",
       "Absences                                    1.0                  5.0   \n",
       "\n",
       "                                            50%                  75%  \\\n",
       "EmpID                                   10156.0              10233.5   \n",
       "MarriedID                                   0.0                  1.0   \n",
       "MaritalStatusID                             1.0                  1.0   \n",
       "GenderID                                    0.0                  1.0   \n",
       "EmpStatusID                                 1.0                  5.0   \n",
       "DeptID                                      5.0                  5.0   \n",
       "PerfScoreID                                 3.0                  3.0   \n",
       "FromDiversityJobFairID                      0.0                  0.0   \n",
       "Salary                                  62810.0              72036.0   \n",
       "Termd                                       0.0                  1.0   \n",
       "PositionID                                 19.0                 20.0   \n",
       "Zip                                      2132.0               2355.0   \n",
       "DOB                         1986-11-07 00:00:00  2060-07-19 00:00:00   \n",
       "DateofHire                  2013-02-18 00:00:00  2014-09-23 12:00:00   \n",
       "ManagerID                                  14.0                 19.0   \n",
       "EngagementSurvey                           4.28                  4.7   \n",
       "EmpSatisfaction                             4.0                  5.0   \n",
       "SpecialProjectsCount                        0.0                  0.0   \n",
       "LastPerformanceReview_Date  2019-01-16 00:00:00  2019-02-04 00:00:00   \n",
       "DaysLateLast30                              0.0                  0.0   \n",
       "Absences                                   10.0                 15.0   \n",
       "\n",
       "                                            max           std  \n",
       "EmpID                                   10311.0     89.922189  \n",
       "MarriedID                                   1.0      0.490423  \n",
       "MaritalStatusID                             4.0      0.943239  \n",
       "GenderID                                    1.0      0.496435  \n",
       "EmpStatusID                                 5.0      1.794383  \n",
       "DeptID                                      6.0      1.083487  \n",
       "PerfScoreID                                 4.0      0.587072  \n",
       "FromDiversityJobFairID                      1.0      0.291248  \n",
       "Salary                                 250000.0   25156.63693  \n",
       "Termd                                       1.0      0.472542  \n",
       "PositionID                                 30.0      6.223419  \n",
       "Zip                                     98052.0  16908.396884  \n",
       "DOB                         2074-12-21 00:00:00           NaN  \n",
       "DateofHire                  2018-07-09 00:00:00           NaN  \n",
       "ManagerID                                  39.0      8.301386  \n",
       "EngagementSurvey                            5.0      0.789938  \n",
       "EmpSatisfaction                             5.0      0.909241  \n",
       "SpecialProjectsCount                        8.0      2.349421  \n",
       "LastPerformanceReview_Date  2019-02-28 00:00:00           NaN  \n",
       "DaysLateLast30                              6.0      1.294519  \n",
       "Absences                                   20.0      5.852596  "
      ]
     },
     "execution_count": 16,
     "metadata": {},
     "output_type": "execute_result"
    }
   ],
   "source": [
    "hr_df.describe().T"
   ]
  },
  {
   "cell_type": "markdown",
   "id": "a3530a9d",
   "metadata": {},
   "source": [
    "Key Observations :\n",
    "\n",
    "Salary has a wide range and potential outliers.<br>\n",
    "The maximum salary is 72,036.<br>\n",
    "The standard deviation is over $25,000, suggesting significant variation, possibly driven by a few high earners.<br>\n",
    "\n",
    "Most employees have low or no recent lateness. <br>\n",
    "The mean DaysLateLast30 is only 0.41, and 75% of employees have 0 late days, indicating good punctuality.<br>\n",
    "\n",
    "Engagement and satisfaction scores are relatively high. EngagementSurvey and EmpSatisfaction have mean values above 4 and 3.8 respectively, with upper quartiles reaching 4.7 and 5.0, suggesting that a significant portion of employees feel positively about their work environment."
   ]
  },
  {
   "cell_type": "markdown",
   "id": "f07ec874",
   "metadata": {},
   "source": [
    "## Question: How do absenteeism and lateness impact performance scores across departments?"
   ]
  },
  {
   "cell_type": "markdown",
   "id": "ba8c2499",
   "metadata": {},
   "source": [
    "To begin analyzing how absenteeism and lateness impact performance scores across departments, I started by selecting a subset of the HR dataset with the most relevant columns for this question:\n",
    "\n",
    "`EmpID` – to uniquely identify each employee,<br>\n",
    "`Department` – to analyze trends across different departments,<br>\n",
    "`Absences` – to measure how often employees are absent,<br>\n",
    "`DaysLateLast30` – to capture recent lateness behavior, <br>\n",
    "`PerformanceScore` – the main outcome variable I’m evaluating.<br>"
   ]
  },
  {
   "cell_type": "code",
   "execution_count": 17,
   "id": "a150af3b",
   "metadata": {},
   "outputs": [
    {
     "data": {
      "text/html": [
       "<div>\n",
       "<style scoped>\n",
       "    .dataframe tbody tr th:only-of-type {\n",
       "        vertical-align: middle;\n",
       "    }\n",
       "\n",
       "    .dataframe tbody tr th {\n",
       "        vertical-align: top;\n",
       "    }\n",
       "\n",
       "    .dataframe thead th {\n",
       "        text-align: right;\n",
       "    }\n",
       "</style>\n",
       "<table border=\"1\" class=\"dataframe\">\n",
       "  <thead>\n",
       "    <tr style=\"text-align: right;\">\n",
       "      <th></th>\n",
       "      <th>EmpID</th>\n",
       "      <th>Department</th>\n",
       "      <th>Absences</th>\n",
       "      <th>DaysLateLast30</th>\n",
       "      <th>PerformanceScore</th>\n",
       "    </tr>\n",
       "  </thead>\n",
       "  <tbody>\n",
       "    <tr>\n",
       "      <th>0</th>\n",
       "      <td>10026</td>\n",
       "      <td>Production</td>\n",
       "      <td>1</td>\n",
       "      <td>0</td>\n",
       "      <td>Exceeds</td>\n",
       "    </tr>\n",
       "    <tr>\n",
       "      <th>1</th>\n",
       "      <td>10084</td>\n",
       "      <td>IT/IS</td>\n",
       "      <td>17</td>\n",
       "      <td>0</td>\n",
       "      <td>Fully Meets</td>\n",
       "    </tr>\n",
       "    <tr>\n",
       "      <th>2</th>\n",
       "      <td>10196</td>\n",
       "      <td>Production</td>\n",
       "      <td>3</td>\n",
       "      <td>0</td>\n",
       "      <td>Fully Meets</td>\n",
       "    </tr>\n",
       "    <tr>\n",
       "      <th>3</th>\n",
       "      <td>10088</td>\n",
       "      <td>Production</td>\n",
       "      <td>15</td>\n",
       "      <td>0</td>\n",
       "      <td>Fully Meets</td>\n",
       "    </tr>\n",
       "    <tr>\n",
       "      <th>4</th>\n",
       "      <td>10069</td>\n",
       "      <td>Production</td>\n",
       "      <td>2</td>\n",
       "      <td>0</td>\n",
       "      <td>Fully Meets</td>\n",
       "    </tr>\n",
       "    <tr>\n",
       "      <th>...</th>\n",
       "      <td>...</td>\n",
       "      <td>...</td>\n",
       "      <td>...</td>\n",
       "      <td>...</td>\n",
       "      <td>...</td>\n",
       "    </tr>\n",
       "    <tr>\n",
       "      <th>306</th>\n",
       "      <td>10135</td>\n",
       "      <td>Production</td>\n",
       "      <td>13</td>\n",
       "      <td>0</td>\n",
       "      <td>Fully Meets</td>\n",
       "    </tr>\n",
       "    <tr>\n",
       "      <th>307</th>\n",
       "      <td>10301</td>\n",
       "      <td>Production</td>\n",
       "      <td>4</td>\n",
       "      <td>5</td>\n",
       "      <td>PIP</td>\n",
       "    </tr>\n",
       "    <tr>\n",
       "      <th>308</th>\n",
       "      <td>10010</td>\n",
       "      <td>IT/IS</td>\n",
       "      <td>16</td>\n",
       "      <td>0</td>\n",
       "      <td>Exceeds</td>\n",
       "    </tr>\n",
       "    <tr>\n",
       "      <th>309</th>\n",
       "      <td>10043</td>\n",
       "      <td>IT/IS</td>\n",
       "      <td>11</td>\n",
       "      <td>0</td>\n",
       "      <td>Fully Meets</td>\n",
       "    </tr>\n",
       "    <tr>\n",
       "      <th>310</th>\n",
       "      <td>10271</td>\n",
       "      <td>Production</td>\n",
       "      <td>2</td>\n",
       "      <td>0</td>\n",
       "      <td>Fully Meets</td>\n",
       "    </tr>\n",
       "  </tbody>\n",
       "</table>\n",
       "<p>311 rows × 5 columns</p>\n",
       "</div>"
      ],
      "text/plain": [
       "     EmpID         Department  Absences  DaysLateLast30 PerformanceScore\n",
       "0    10026  Production                1               0          Exceeds\n",
       "1    10084              IT/IS        17               0      Fully Meets\n",
       "2    10196  Production                3               0      Fully Meets\n",
       "3    10088  Production               15               0      Fully Meets\n",
       "4    10069  Production                2               0      Fully Meets\n",
       "..     ...                ...       ...             ...              ...\n",
       "306  10135  Production               13               0      Fully Meets\n",
       "307  10301  Production                4               5              PIP\n",
       "308  10010              IT/IS        16               0          Exceeds\n",
       "309  10043              IT/IS        11               0      Fully Meets\n",
       "310  10271  Production                2               0      Fully Meets\n",
       "\n",
       "[311 rows x 5 columns]"
      ]
     },
     "execution_count": 17,
     "metadata": {},
     "output_type": "execute_result"
    }
   ],
   "source": [
    "# checking columns\n",
    "hr_df[['EmpID','Department','Absences','DaysLateLast30','PerformanceScore']]"
   ]
  },
  {
   "cell_type": "markdown",
   "id": "f56efd6f",
   "metadata": {},
   "source": [
    "To focus my analysis, I created a new DataFrame called attendence_performance_df that includes only the columns relevant to understanding the relationship between absenteeism, lateness, and performance scores across departments."
   ]
  },
  {
   "cell_type": "code",
   "execution_count": 19,
   "id": "3595848c",
   "metadata": {},
   "outputs": [],
   "source": [
    "# creat a new DataFrame containing only the relevant columns.\n",
    "attendence_performance_df = hr_df[['EmpID','Department','Absences','DaysLateLast30','PerformanceScore']]"
   ]
  },
  {
   "cell_type": "markdown",
   "id": "043deb19",
   "metadata": {},
   "source": [
    "Previewing the attendence_performance dataset"
   ]
  },
  {
   "cell_type": "code",
   "execution_count": 20,
   "id": "33e0bb6f",
   "metadata": {},
   "outputs": [
    {
     "data": {
      "text/html": [
       "<div>\n",
       "<style scoped>\n",
       "    .dataframe tbody tr th:only-of-type {\n",
       "        vertical-align: middle;\n",
       "    }\n",
       "\n",
       "    .dataframe tbody tr th {\n",
       "        vertical-align: top;\n",
       "    }\n",
       "\n",
       "    .dataframe thead th {\n",
       "        text-align: right;\n",
       "    }\n",
       "</style>\n",
       "<table border=\"1\" class=\"dataframe\">\n",
       "  <thead>\n",
       "    <tr style=\"text-align: right;\">\n",
       "      <th></th>\n",
       "      <th>EmpID</th>\n",
       "      <th>Department</th>\n",
       "      <th>Absences</th>\n",
       "      <th>DaysLateLast30</th>\n",
       "      <th>PerformanceScore</th>\n",
       "    </tr>\n",
       "  </thead>\n",
       "  <tbody>\n",
       "    <tr>\n",
       "      <th>0</th>\n",
       "      <td>10026</td>\n",
       "      <td>Production</td>\n",
       "      <td>1</td>\n",
       "      <td>0</td>\n",
       "      <td>Exceeds</td>\n",
       "    </tr>\n",
       "    <tr>\n",
       "      <th>1</th>\n",
       "      <td>10084</td>\n",
       "      <td>IT/IS</td>\n",
       "      <td>17</td>\n",
       "      <td>0</td>\n",
       "      <td>Fully Meets</td>\n",
       "    </tr>\n",
       "    <tr>\n",
       "      <th>2</th>\n",
       "      <td>10196</td>\n",
       "      <td>Production</td>\n",
       "      <td>3</td>\n",
       "      <td>0</td>\n",
       "      <td>Fully Meets</td>\n",
       "    </tr>\n",
       "  </tbody>\n",
       "</table>\n",
       "</div>"
      ],
      "text/plain": [
       "   EmpID         Department  Absences  DaysLateLast30 PerformanceScore\n",
       "0  10026  Production                1               0          Exceeds\n",
       "1  10084              IT/IS        17               0      Fully Meets\n",
       "2  10196  Production                3               0      Fully Meets"
      ]
     },
     "execution_count": 20,
     "metadata": {},
     "output_type": "execute_result"
    }
   ],
   "source": [
    "attendence_performance_df.head(3)"
   ]
  },
  {
   "cell_type": "markdown",
   "id": "1f02eaee",
   "metadata": {},
   "source": [
    "## Univarite Analysis"
   ]
  },
  {
   "cell_type": "markdown",
   "id": "f2fb0fce",
   "metadata": {},
   "source": [
    " `Department` Column"
   ]
  },
  {
   "cell_type": "markdown",
   "id": "20b0fa74",
   "metadata": {},
   "source": [
    "To see distribution of employees across departments,I used value_counts()"
   ]
  },
  {
   "cell_type": "code",
   "execution_count": 21,
   "id": "24186c92",
   "metadata": {},
   "outputs": [
    {
     "data": {
      "text/plain": [
       "Department\n",
       "Production              209\n",
       "IT/IS                    50\n",
       "Sales                    31\n",
       "Software Engineering     11\n",
       "Admin Offices             9\n",
       "Executive Office          1\n",
       "Name: count, dtype: int64"
      ]
     },
     "execution_count": 21,
     "metadata": {},
     "output_type": "execute_result"
    }
   ],
   "source": [
    "Department_count = attendence_performance_df['Department'].value_counts()\n",
    "Department_count\n"
   ]
  },
  {
   "cell_type": "markdown",
   "id": "773d3901",
   "metadata": {},
   "source": [
    "Plotting the graph to visualise data"
   ]
  },
  {
   "cell_type": "code",
   "execution_count": 26,
   "id": "b863fcc4",
   "metadata": {},
   "outputs": [
    {
     "data": {
      "image/png": "[encoded data removed]",
      "text/plain": [
       "<Figure size 640x480 with 1 Axes>"
      ]
     },
     "metadata": {},
     "output_type": "display_data"
    }
   ],
   "source": [
    "Department_count.plot(kind='bar')\n",
    "\n",
    "plt.title('Number of Employees by Department')\n",
    "plt.xlabel('Department')\n",
    "plt.ylabel('Number of Employees')\n",
    "plt.xticks(rotation=45)\n",
    "plt.tight_layout()\n",
    "plt.show()\n"
   ]
  },
  {
   "cell_type": "markdown",
   "id": "3f75c9b3",
   "metadata": {},
   "source": [
    "I performed a univariate analysis on the Department column to understand how employees are distributed across different areas of the organization. The majority of employees belong to the Production department, which accounts for 209 out of the total. This is followed by IT/IS with 50 employees and Sales with 31. The Software Engineering team includes 11 employees, while Admin Offices has 9, and the Executive Office has just 1 employee."
   ]
  },
  {
   "cell_type": "markdown",
   "id": "50019bd9",
   "metadata": {},
   "source": [
    "`Absences` Column"
   ]
  },
  {
   "cell_type": "code",
   "execution_count": null,
   "id": "d27a07da",
   "metadata": {},
   "outputs": [
    {
     "data": {
      "text/plain": [
       "count    311.000000\n",
       "mean      10.237942\n",
       "std        5.852596\n",
       "min        1.000000\n",
       "25%        5.000000\n",
       "50%       10.000000\n",
       "75%       15.000000\n",
       "max       20.000000\n",
       "Name: Absences, dtype: float64"
      ]
     },
     "execution_count": 27,
     "metadata": {},
     "output_type": "execute_result"
    }
   ],
   "source": [
    "# Statastics\n",
    "attendence_performance_df['Absences'].describe().T\n"
   ]
  },
  {
   "cell_type": "markdown",
   "id": "74a68153",
   "metadata": {},
   "source": [
    "The minimum number of absences is 1, and the maximum is 20.\n",
    "The 25th percentile is at 5 absences, and the 75th percentile at 15 absences, showing that 50% of employees are absent between 5 to 15 days."
   ]
  },
  {
   "cell_type": "markdown",
   "id": "25681695",
   "metadata": {},
   "source": [
    "`DaysLateLast30` Column"
   ]
  },
  {
   "cell_type": "markdown",
   "id": "23b6647a",
   "metadata": {},
   "source": [
    "To understand recent lateness trends, analyze the DaysLateLast30 column."
   ]
  },
  {
   "cell_type": "code",
   "execution_count": null,
   "id": "d84a565a",
   "metadata": {},
   "outputs": [
    {
     "data": {
      "text/plain": [
       "DaysLateLast30\n",
       "0    278\n",
       "4      8\n",
       "2      6\n",
       "3      6\n",
       "5      6\n",
       "6      6\n",
       "1      1\n",
       "Name: count, dtype: int64"
      ]
     },
     "execution_count": 28,
     "metadata": {},
     "output_type": "execute_result"
    }
   ],
   "source": [
    "# frequecy\n",
    "attendence_performance_df['DaysLateLast30'].value_counts()"
   ]
  },
  {
   "cell_type": "code",
   "execution_count": null,
   "id": "f6df5040",
   "metadata": {},
   "outputs": [
    {
     "data": {
      "image/png": "[encoded data removed]",
      "text/plain": [
       "<Figure size 640x480 with 1 Axes>"
      ]
     },
     "metadata": {},
     "output_type": "display_data"
    }
   ],
   "source": [
    "# plotting histogram\n",
    "attendence_performance_df['DaysLateLast30'].hist(bins=20)\n",
    "\n",
    "plt.title('Distribution of Days Late in Last 30 Days')\n",
    "plt.xlabel('Days Late')\n",
    "plt.ylabel('Number of Employees')\n",
    "plt.tight_layout()\n",
    "plt.show()\n"
   ]
  },
  {
   "cell_type": "markdown",
   "id": "f686b6ad",
   "metadata": {},
   "source": [
    "From above analysis, Out of 311 employees, the vast majority, over 270 individuals, had zero days late in the past 30 days.The maximum lateness recorded is 6 days. The 25th, 50th, and 75th percentiles are all 0, reinforcing that lateness is uncommon among employees."
   ]
  },
  {
   "cell_type": "markdown",
   "id": "0eff8f1a",
   "metadata": {},
   "source": [
    "`Performance` Score Column"
   ]
  },
  {
   "cell_type": "markdown",
   "id": "fcae355c",
   "metadata": {},
   "source": [
    "To begin analyzing the distribution of employee performance, I used value_counts() on the PerformanceScore column. This provided a frequency count of each performance category, showing how many employees fall into each rating group."
   ]
  },
  {
   "cell_type": "code",
   "execution_count": 31,
   "id": "6151038c",
   "metadata": {},
   "outputs": [],
   "source": [
    "# frequency count\n",
    "performance_count = attendence_performance_df['PerformanceScore'].value_counts()\n"
   ]
  },
  {
   "cell_type": "code",
   "execution_count": 32,
   "id": "25dcd9d4",
   "metadata": {},
   "outputs": [
    {
     "data": {
      "text/plain": [
       "PerformanceScore\n",
       "Fully Meets          243\n",
       "Exceeds               37\n",
       "Needs Improvement     18\n",
       "PIP                   13\n",
       "Name: count, dtype: int64"
      ]
     },
     "execution_count": 32,
     "metadata": {},
     "output_type": "execute_result"
    }
   ],
   "source": [
    "performance_count"
   ]
  },
  {
   "cell_type": "markdown",
   "id": "43412b08",
   "metadata": {},
   "source": [
    "Plotting bar graph to visualise frequecy count"
   ]
  },
  {
   "cell_type": "code",
   "execution_count": 34,
   "id": "b261da2a",
   "metadata": {},
   "outputs": [
    {
     "data": {
      "image/png": "[encoded data removed]",
      "text/plain": [
       "<Figure size 640x480 with 1 Axes>"
      ]
     },
     "metadata": {},
     "output_type": "display_data"
    }
   ],
   "source": [
    "performance_count.plot(kind='bar')\n",
    "plt.title('Distribution of Performance Scores')\n",
    "plt.xlabel('Performance Category')\n",
    "plt.ylabel('Number of Employees')\n",
    "plt.xticks(rotation=45)\n",
    "plt.tight_layout()\n",
    "plt.show()"
   ]
  },
  {
   "cell_type": "markdown",
   "id": "9abf604c",
   "metadata": {},
   "source": [
    "This shows that the majority of employees are performing at a satisfactory level, while a smaller proportion either exceed expectations or require support to improve. The relatively low number of employees in the \"Needs Improvement\" and \"PIP\" categories suggests most employees meet baseline performance expectations."
   ]
  },
  {
   "cell_type": "markdown",
   "id": "10fc3f73",
   "metadata": {},
   "source": [
    "## Bivariate Analysis"
   ]
  },
  {
   "cell_type": "markdown",
   "id": "cb84c044",
   "metadata": {},
   "source": [
    "#### `Absences` vs. `Performance Score`"
   ]
  },
  {
   "cell_type": "markdown",
   "id": "3a2f1de4",
   "metadata": {},
   "source": [
    "To explore whether absenteeism is associated with performance ratings, I used a boxplot to compare the number of absences across different PerformanceScore categories."
   ]
  },
  {
   "cell_type": "code",
   "execution_count": null,
   "id": "d88deae5",
   "metadata": {},
   "outputs": [
    {
     "data": {
      "image/png": "[encoded data removed]",
      "text/plain": [
       "<Figure size 800x600 with 1 Axes>"
      ]
     },
     "metadata": {},
     "output_type": "display_data"
    }
   ],
   "source": [
    "# Absences by Performance Score\n",
    "\n",
    "plt.figure(figsize=(8, 6)) \n",
    "sns.boxplot(data=attendence_performance_df, x='PerformanceScore', y='Absences')\n",
    "plt.title('Absences by Performance Score')\n",
    "plt.xlabel('Performance Score')\n",
    "plt.ylabel('Number of Absences')\n",
    "plt.xticks(rotation=0) \n",
    "plt.tight_layout()\n",
    "plt.show()"
   ]
  },
  {
   "cell_type": "markdown",
   "id": "68fb4688",
   "metadata": {},
   "source": [
    "Key Observation :\n",
    "\n",
    "- Employees rated as \"Needs Improvement\" and \"Exceeds\" tend to have the highest median absences, both above 12 days.<br>\n",
    "- \"Fully Meets\" performers have a slightly lower median around 10 absences.\n",
    "- \"PIP\" (Performance Improvement Plan) employees show the lowest median absences, around 6 days, with one visible outlier close to 20 days.<br>\n",
    "- The presence of outliers, especially in the \"PIP\" category, suggests a few employees have unusually high absence days."
   ]
  },
  {
   "cell_type": "markdown",
   "id": "dcb02659",
   "metadata": {},
   "source": [
    "There doesn’t appear to be a clear, linear relationship between performance score and number of absences. Surprisingly, those on a performance plan (\"PIP\") had fewer absences on average, while some higher performers had more. This suggests that absenteeism alone may not fully explain performance levels, and other factors likely contribute to the overall evaluation."
   ]
  },
  {
   "cell_type": "markdown",
   "id": "44fc2d3c",
   "metadata": {},
   "source": [
    "#### `DaysLateLast30` vs. `Performance Score`"
   ]
  },
  {
   "cell_type": "markdown",
   "id": "4b33751e",
   "metadata": {},
   "source": [
    "To explore whether tardy is associated with performance ratings, I used a boxplot to compare the number of days late across different PerformanceScore categories."
   ]
  },
  {
   "cell_type": "code",
   "execution_count": null,
   "id": "0486dc0c",
   "metadata": {},
   "outputs": [
    {
     "data": {
      "image/png": "[encoded data removed]",
      "text/plain": [
       "<Figure size 800x600 with 1 Axes>"
      ]
     },
     "metadata": {},
     "output_type": "display_data"
    }
   ],
   "source": [
    "# Days Late by Performance Score\n",
    "plt.figure(figsize=(8, 6)) \n",
    "sns.boxplot(data=attendence_performance_df, x='PerformanceScore', y='DaysLateLast30')\n",
    "plt.title('Days Late in Last 30 Days by Performance Score')\n",
    "plt.xlabel('Performance Score')\n",
    "plt.ylabel('Days Late (Last 30 Days)')\n",
    "plt.xticks(rotation=0)\n",
    "plt.tight_layout()\n",
    "plt.show()"
   ]
  },
  {
   "cell_type": "markdown",
   "id": "3d88ed24",
   "metadata": {},
   "source": [
    "Key Observations:\n",
    "\n",
    "- \"Exceeds\" and \"Fully Meets\" performers show almost no lateness, with values concentrated at zero, and only a couple of minor outliers (e.g., 1 or 2 days late).<br>\n",
    "- In contrast, employees with \"Needs Improvement\" and those on a \"PIP\" (Performance Improvement Plan) have higher and more variable lateness.\n",
    "Both categories show a median of around 4 days late.<br>\n"
   ]
  },
  {
   "cell_type": "markdown",
   "id": "60ffbef6",
   "metadata": {},
   "source": [
    "This pattern suggests a strong inverse relationship between punctuality and performance, higher performing employees are consistently punctual, while lower performing ones are significantly more likely to be late."
   ]
  },
  {
   "cell_type": "markdown",
   "id": "30760a24",
   "metadata": {},
   "source": [
    "#### `Absences` vs. `Department`"
   ]
  },
  {
   "cell_type": "code",
   "execution_count": null,
   "id": "d145978e",
   "metadata": {},
   "outputs": [],
   "source": []
  },
  {
   "cell_type": "markdown",
   "id": "7d3d4593",
   "metadata": {},
   "source": [
    "To examine absence trends across departments."
   ]
  },
  {
   "cell_type": "code",
   "execution_count": 40,
   "id": "3319d025",
   "metadata": {},
   "outputs": [
    {
     "data": {
      "image/png": "[encoded data removed]",
      "text/plain": [
       "<Figure size 800x600 with 1 Axes>"
      ]
     },
     "metadata": {},
     "output_type": "display_data"
    }
   ],
   "source": [
    "# Absences by Department\n",
    "plt.figure(figsize=(8, 6))\n",
    "sns.boxplot(data=attendence_performance_df, x='Department', y='Absences')\n",
    "plt.title('Absences by Department')\n",
    "plt.xlabel('Department')\n",
    "plt.ylabel('Number of Absences')\n",
    "plt.xticks(rotation=45)  \n",
    "plt.tight_layout()\n",
    "plt.show()"
   ]
  },
  {
   "cell_type": "markdown",
   "id": "9acb99fd",
   "metadata": {},
   "source": [
    "Key Observations:\n",
    "\n",
    "- Sales has the highest median among all departments.\n",
    "- Production also shows a broad range similar to sales, but with a slightly lower median than Sales.\n",
    "\n",
    "- The Executive Office appears to have a fixed value (around 10 absences), it has only one employees.\n",
    "- Across all departments, outliers are minimal, and absences are relatively evenly distributed."
   ]
  },
  {
   "cell_type": "markdown",
   "id": "62f95ac1",
   "metadata": {},
   "source": [
    "Absenteeism varies across departments, with Sales and IT/IS showing more variability and slightly higher central tendencies, while Admin Offices and Software Engineering seem to have more controlled absence behavior."
   ]
  },
  {
   "cell_type": "markdown",
   "id": "c90a1410",
   "metadata": {},
   "source": [
    "#### `DaysLateLast30` vs. `Department`\n"
   ]
  },
  {
   "cell_type": "markdown",
   "id": "1f775f88",
   "metadata": {},
   "source": [
    "To explore how recent lateness varies across departments, I used a boxplot to visualize the distribution of DaysLateLast30 grouped by Department:"
   ]
  },
  {
   "cell_type": "code",
   "execution_count": 41,
   "id": "d06bfcde",
   "metadata": {},
   "outputs": [
    {
     "data": {
      "image/png": "[encoded data removed]",
      "text/plain": [
       "<Figure size 640x480 with 1 Axes>"
      ]
     },
     "metadata": {},
     "output_type": "display_data"
    }
   ],
   "source": [
    "sns.boxplot(data=attendence_performance_df, x='Department', y='DaysLateLast30')\n",
    "plt.title('Days Late by Department')\n",
    "plt.xlabel('Department')\n",
    "plt.ylabel('Days Late in Last 30 Days')\n",
    "plt.xticks(rotation=45)\n",
    "plt.tight_layout()\n",
    "plt.show()\n"
   ]
  },
  {
   "cell_type": "markdown",
   "id": "291a8368",
   "metadata": {},
   "source": [
    "Key Observations:\n",
    "\n",
    "- Across all departments, the majority of employees had zero days late in the last 30 days, shown by the concentration of data near the baseline of 0.<br>\n",
    "- A small number of outliers appear in departments like Production, Sales, IT/IS, and Software Engineering, where a few individuals recorded 2 to 6 days late.<br>\n",
    "- Executive Office had no recorded lateness, likely due to having very few employees.<br>\n",
    "- Production and Sales show the highest spread in outliers."
   ]
  },
  {
   "cell_type": "markdown",
   "id": "8029d4b5",
   "metadata": {},
   "source": [
    "Lateness is not widespread across departments and appears to be driven by a small number of employees. Most departments maintain strong punctuality,with exceptions in larger or operationally intensive teams like Production and Sales."
   ]
  },
  {
   "cell_type": "markdown",
   "id": "57c5d879",
   "metadata": {},
   "source": [
    "#### `Absences` vs. `DaysLateLast30` "
   ]
  },
  {
   "cell_type": "markdown",
   "id": "0ec9ddd3",
   "metadata": {},
   "source": [
    " To check the relationship between absences and recent lateness, using a scatter plot and correlation matrix. "
   ]
  },
  {
   "cell_type": "code",
   "execution_count": null,
   "id": "acf8ea71",
   "metadata": {},
   "outputs": [
    {
     "data": {
      "text/html": [
       "<div>\n",
       "<style scoped>\n",
       "    .dataframe tbody tr th:only-of-type {\n",
       "        vertical-align: middle;\n",
       "    }\n",
       "\n",
       "    .dataframe tbody tr th {\n",
       "        vertical-align: top;\n",
       "    }\n",
       "\n",
       "    .dataframe thead th {\n",
       "        text-align: right;\n",
       "    }\n",
       "</style>\n",
       "<table border=\"1\" class=\"dataframe\">\n",
       "  <thead>\n",
       "    <tr style=\"text-align: right;\">\n",
       "      <th></th>\n",
       "      <th>Absences</th>\n",
       "      <th>DaysLateLast30</th>\n",
       "    </tr>\n",
       "  </thead>\n",
       "  <tbody>\n",
       "    <tr>\n",
       "      <th>Absences</th>\n",
       "      <td>1.000000</td>\n",
       "      <td>0.001833</td>\n",
       "    </tr>\n",
       "    <tr>\n",
       "      <th>DaysLateLast30</th>\n",
       "      <td>0.001833</td>\n",
       "      <td>1.000000</td>\n",
       "    </tr>\n",
       "  </tbody>\n",
       "</table>\n",
       "</div>"
      ],
      "text/plain": [
       "                Absences  DaysLateLast30\n",
       "Absences        1.000000        0.001833\n",
       "DaysLateLast30  0.001833        1.000000"
      ]
     },
     "execution_count": 42,
     "metadata": {},
     "output_type": "execute_result"
    }
   ],
   "source": [
    "# finding correlation\n",
    "attendence_performance_df[['Absences', 'DaysLateLast30']].corr()\n"
   ]
  },
  {
   "cell_type": "code",
   "execution_count": null,
   "id": "3f92c596",
   "metadata": {},
   "outputs": [
    {
     "data": {
      "image/png": "[encoded data removed]",
      "text/plain": [
       "<Figure size 640x480 with 1 Axes>"
      ]
     },
     "metadata": {},
     "output_type": "display_data"
    }
   ],
   "source": [
    "# plotting scatter plot\n",
    "sns.scatterplot(data=attendence_performance_df, x='Absences', y='DaysLateLast30')\n",
    "plt.title('Absences vs. Days Late in Last 30 Days')\n",
    "plt.xlabel('Absences')\n",
    "plt.ylabel('Days Late')\n",
    "plt.show()\n"
   ]
  },
  {
   "cell_type": "markdown",
   "id": "d662edab",
   "metadata": {},
   "source": [
    "The correlation coefficient between Absences and DaysLateLast30 is 0.0018, which is extremely close to zero.This result suggests that there is no linear relationship between the number of times an employee has been absent and the number of days they’ve been late in the last 30 days.ie, employees who are frequently absent are not necessarily the same ones who are frequently late, and vice versa."
   ]
  },
  {
   "cell_type": "markdown",
   "id": "aa08b466",
   "metadata": {},
   "source": [
    "#### Grouped Analysis"
   ]
  },
  {
   "cell_type": "markdown",
   "id": "3c4499eb",
   "metadata": {},
   "source": [
    "To examine how average absences and lateness vary across combinations of Department and PerformanceScore."
   ]
  },
  {
   "cell_type": "code",
   "execution_count": 44,
   "id": "99d4e3a2",
   "metadata": {},
   "outputs": [
    {
     "data": {
      "text/html": [
       "<div>\n",
       "<style scoped>\n",
       "    .dataframe tbody tr th:only-of-type {\n",
       "        vertical-align: middle;\n",
       "    }\n",
       "\n",
       "    .dataframe tbody tr th {\n",
       "        vertical-align: top;\n",
       "    }\n",
       "\n",
       "    .dataframe thead th {\n",
       "        text-align: right;\n",
       "    }\n",
       "</style>\n",
       "<table border=\"1\" class=\"dataframe\">\n",
       "  <thead>\n",
       "    <tr style=\"text-align: right;\">\n",
       "      <th></th>\n",
       "      <th>Department</th>\n",
       "      <th>PerformanceScore</th>\n",
       "      <th>Absences</th>\n",
       "      <th>DaysLateLast30</th>\n",
       "    </tr>\n",
       "  </thead>\n",
       "  <tbody>\n",
       "    <tr>\n",
       "      <th>0</th>\n",
       "      <td>Admin Offices</td>\n",
       "      <td>Fully Meets</td>\n",
       "      <td>8.666667</td>\n",
       "      <td>0.000000</td>\n",
       "    </tr>\n",
       "    <tr>\n",
       "      <th>1</th>\n",
       "      <td>Executive Office</td>\n",
       "      <td>Fully Meets</td>\n",
       "      <td>10.000000</td>\n",
       "      <td>0.000000</td>\n",
       "    </tr>\n",
       "    <tr>\n",
       "      <th>2</th>\n",
       "      <td>IT/IS</td>\n",
       "      <td>Exceeds</td>\n",
       "      <td>12.333333</td>\n",
       "      <td>0.000000</td>\n",
       "    </tr>\n",
       "    <tr>\n",
       "      <th>3</th>\n",
       "      <td>IT/IS</td>\n",
       "      <td>Fully Meets</td>\n",
       "      <td>10.309524</td>\n",
       "      <td>0.000000</td>\n",
       "    </tr>\n",
       "    <tr>\n",
       "      <th>4</th>\n",
       "      <td>IT/IS</td>\n",
       "      <td>Needs Improvement</td>\n",
       "      <td>13.000000</td>\n",
       "      <td>4.000000</td>\n",
       "    </tr>\n",
       "    <tr>\n",
       "      <th>5</th>\n",
       "      <td>IT/IS</td>\n",
       "      <td>PIP</td>\n",
       "      <td>2.000000</td>\n",
       "      <td>3.000000</td>\n",
       "    </tr>\n",
       "    <tr>\n",
       "      <th>6</th>\n",
       "      <td>Production</td>\n",
       "      <td>Exceeds</td>\n",
       "      <td>10.370370</td>\n",
       "      <td>0.000000</td>\n",
       "    </tr>\n",
       "    <tr>\n",
       "      <th>7</th>\n",
       "      <td>Production</td>\n",
       "      <td>Fully Meets</td>\n",
       "      <td>10.138365</td>\n",
       "      <td>0.012579</td>\n",
       "    </tr>\n",
       "    <tr>\n",
       "      <th>8</th>\n",
       "      <td>Production</td>\n",
       "      <td>Needs Improvement</td>\n",
       "      <td>10.400000</td>\n",
       "      <td>3.866667</td>\n",
       "    </tr>\n",
       "    <tr>\n",
       "      <th>9</th>\n",
       "      <td>Production</td>\n",
       "      <td>PIP</td>\n",
       "      <td>9.000000</td>\n",
       "      <td>4.750000</td>\n",
       "    </tr>\n",
       "    <tr>\n",
       "      <th>10</th>\n",
       "      <td>Sales</td>\n",
       "      <td>Exceeds</td>\n",
       "      <td>10.000000</td>\n",
       "      <td>0.000000</td>\n",
       "    </tr>\n",
       "    <tr>\n",
       "      <th>11</th>\n",
       "      <td>Sales</td>\n",
       "      <td>Fully Meets</td>\n",
       "      <td>12.000000</td>\n",
       "      <td>0.125000</td>\n",
       "    </tr>\n",
       "    <tr>\n",
       "      <th>12</th>\n",
       "      <td>Sales</td>\n",
       "      <td>Needs Improvement</td>\n",
       "      <td>16.000000</td>\n",
       "      <td>2.000000</td>\n",
       "    </tr>\n",
       "    <tr>\n",
       "      <th>13</th>\n",
       "      <td>Sales</td>\n",
       "      <td>PIP</td>\n",
       "      <td>8.500000</td>\n",
       "      <td>3.750000</td>\n",
       "    </tr>\n",
       "    <tr>\n",
       "      <th>14</th>\n",
       "      <td>Software Engineering</td>\n",
       "      <td>Exceeds</td>\n",
       "      <td>7.000000</td>\n",
       "      <td>0.000000</td>\n",
       "    </tr>\n",
       "    <tr>\n",
       "      <th>15</th>\n",
       "      <td>Software Engineering</td>\n",
       "      <td>Fully Meets</td>\n",
       "      <td>7.875000</td>\n",
       "      <td>0.000000</td>\n",
       "    </tr>\n",
       "    <tr>\n",
       "      <th>16</th>\n",
       "      <td>Software Engineering</td>\n",
       "      <td>Needs Improvement</td>\n",
       "      <td>19.000000</td>\n",
       "      <td>4.000000</td>\n",
       "    </tr>\n",
       "  </tbody>\n",
       "</table>\n",
       "</div>"
      ],
      "text/plain": [
       "              Department   PerformanceScore   Absences  DaysLateLast30\n",
       "0          Admin Offices        Fully Meets   8.666667        0.000000\n",
       "1       Executive Office        Fully Meets  10.000000        0.000000\n",
       "2                  IT/IS            Exceeds  12.333333        0.000000\n",
       "3                  IT/IS        Fully Meets  10.309524        0.000000\n",
       "4                  IT/IS  Needs Improvement  13.000000        4.000000\n",
       "5                  IT/IS                PIP   2.000000        3.000000\n",
       "6      Production                   Exceeds  10.370370        0.000000\n",
       "7      Production               Fully Meets  10.138365        0.012579\n",
       "8      Production         Needs Improvement  10.400000        3.866667\n",
       "9      Production                       PIP   9.000000        4.750000\n",
       "10                 Sales            Exceeds  10.000000        0.000000\n",
       "11                 Sales        Fully Meets  12.000000        0.125000\n",
       "12                 Sales  Needs Improvement  16.000000        2.000000\n",
       "13                 Sales                PIP   8.500000        3.750000\n",
       "14  Software Engineering            Exceeds   7.000000        0.000000\n",
       "15  Software Engineering        Fully Meets   7.875000        0.000000\n",
       "16  Software Engineering  Needs Improvement  19.000000        4.000000"
      ]
     },
     "execution_count": 44,
     "metadata": {},
     "output_type": "execute_result"
    }
   ],
   "source": [
    "# Group by Department and Performance Score\n",
    "grouped_df = attendence_performance_df.groupby(['Department', 'PerformanceScore'])[['Absences', 'DaysLateLast30']].mean().reset_index()\n",
    "grouped_df\n"
   ]
  },
  {
   "cell_type": "markdown",
   "id": "f1db7c0d",
   "metadata": {},
   "source": [
    "The table summarizes average absences and days late in the last 30 days for each combination of department and performance score."
   ]
  },
  {
   "cell_type": "markdown",
   "id": "745f6ff8",
   "metadata": {},
   "source": [
    "- High-performing employees (those rated as \"Fully Meets\" or \"Exceeds\") across departments typically have low absences and zero or near-zero lateness.<br>\n",
    "- lower performing groups, especially those rated \"Needs Improvement\" , tend to show:<br>\n",
    "Higher average absences in departments like Sales (16 days) and Software Engineering (19 days).<br>\n",
    "Significantly more lateness, with averages reaching up to 4- 4.75 days late in departments like Production, Software Engineering, and IT/IS.<br>\n",
    "- Some departments, like Admin Offices and Executive Office, report no lateness at all, due to smaller team sizes."
   ]
  },
  {
   "cell_type": "code",
   "execution_count": 48,
   "id": "29da5079",
   "metadata": {},
   "outputs": [
    {
     "data": {
      "image/png": "[encoded data removed]",
      "text/plain": [
       "<Figure size 1200x600 with 1 Axes>"
      ]
     },
     "metadata": {},
     "output_type": "display_data"
    }
   ],
   "source": [
    "# Barplot of Average Absences by Department and Performance\n",
    "\n",
    "plt.figure(figsize=(12, 6))\n",
    "sns.barplot(data=grouped_df, x='Department', y='Absences', hue='PerformanceScore')\n",
    "plt.title('Average Absences by Department and Performance Score')\n",
    "plt.xticks(rotation=45)\n",
    "plt.tight_layout()\n",
    "plt.show()"
   ]
  },
  {
   "cell_type": "markdown",
   "id": "b54cbf44",
   "metadata": {},
   "source": [
    "- Lower-performing employees (those rated “Needs Improvement”) had the highest average absences in nearly every department.\n",
    "Notably high in Software Engineering and Sales.<br>\n",
    "- High-performing employees (rated “Exceeds” or “Fully Meets”) generally had fewer absences, particularly in departments like:\n",
    "Software Engineering, where “Exceeds” and “Fully Meets” employees had average absences below 8.<br>\n",
    "- Sales and Production, where “PIP” employees had fewer absences than their “Fully Meets” counterparts. <br>\n",
    "- Admin Offices and Executive Office had only “Fully Meets” employees recorded, showing moderate absence levels.<br>\n",
    "- A notable outlier: In IT/IS, the “PIP” group had significantly fewer absences compared to all other performance groups, possibly indicating a small sample or targeted intervention."
   ]
  },
  {
   "cell_type": "markdown",
   "id": "e777246a",
   "metadata": {},
   "source": [
    "Absenteeism tends to increase as performance ratings decline, particularly for employees needing improvement. This trend is especially pronounced in Software Engineering and Sales, suggesting these departments may benefit from attendance-related performance support. However, some exceptions (like IT/IS PIP group) indicate that absenteeism alone doesn't always predict performance, and departmental context matters."
   ]
  },
  {
   "cell_type": "code",
   "execution_count": 47,
   "id": "9310baa8",
   "metadata": {},
   "outputs": [
    {
     "data": {
      "image/png": "[encoded data removed]",
      "text/plain": [
       "<Figure size 1200x600 with 1 Axes>"
      ]
     },
     "metadata": {},
     "output_type": "display_data"
    }
   ],
   "source": [
    "# Barplot of Average Lateness by Department and Performance\n",
    "\n",
    "plt.figure(figsize=(12, 6))\n",
    "sns.barplot(data=grouped_df, x='Department', y='DaysLateLast30', hue='PerformanceScore')\n",
    "plt.title('Average Days Late by Department and Performance Score')\n",
    "plt.xticks(rotation=45)\n",
    "plt.tight_layout()\n",
    "plt.show()\n"
   ]
  },
  {
   "cell_type": "markdown",
   "id": "f3343a16",
   "metadata": {},
   "source": [
    "- Lateness is highly concentrated among lower-performing employees, especially those rated as \"Needs Improvement\" and \"PIP\":<br>\n",
    "- In Production, PIP employees had the highest average lateness, followed closely by Needs Improvement.<br>\n",
    "- In IT/IS, both Needs Improvement and PIP groups show significantly higher lateness than other scores.<br>\n",
    "- Sales and Software Engineering also show increased lateness for Needs Improvement and PIP groups, with minimal or zero lateness among higher performers."
   ]
  },
  {
   "cell_type": "markdown",
   "id": "5f4d9751",
   "metadata": {},
   "source": [
    "The data shows a clear inverse relationship between lateness and performance, employees who are frequently late are more likely to fall into the lower performance categories. This pattern holds across multiple departments, indicating that lateness is a strong behavioral indicator of reduced job performance. Departments with higher lateness among lower performers may benefit from attendance-related support or interventions.\n",
    "\n"
   ]
  },
  {
   "cell_type": "markdown",
   "id": "c140f53d",
   "metadata": {},
   "source": [
    "## Conclusion"
   ]
  },
  {
   "cell_type": "markdown",
   "id": "67b98a64",
   "metadata": {},
   "source": [
    "Employees with lower performance ratings,particularly those marked as \"Needs Improvement\" or on a Performance Improvement Plan,consistently show higher average absences and greater lateness across most departments, while high performers tend to have strong attendance and punctuality. This suggests that absenteeism and lateness are strong behavioral indicators of performance. Although some department,level differences exist, the impact of performance score on attendance is more significant. These findings highlight the importance of monitoring attendance patterns as part of performance evaluation and early intervention strategies."
   ]
  },
  {
   "cell_type": "markdown",
   "id": "da76cc84",
   "metadata": {},
   "source": [
    "## Next Steps"
   ]
  },
  {
   "cell_type": "markdown",
   "id": "8a8f6c4e",
   "metadata": {},
   "source": [
    "Based on these findings, companies should implement regular monitoring of absenteeism and lateness as part of their performance review process. Departments with higher concentrations of low-performing employees showing poor attendance may benefit from targeted interventions such as attendance improvement plans, one-on-one coaching, or employee engagement initiatives. Additionally, HR teams can use these metrics as early warning signs to proactively support employees at risk of performance decline, ultimately fostering a more accountable and productive work environment"
   ]
  }
 ],
 "metadata": {
  "kernelspec": {
   "display_name": "ds",
   "language": "python",
   "name": "python3"
  },
  "language_info": {
   "codemirror_mode": {
    "name": "ipython",
    "version": 3
   },
   "file_extension": ".py",
   "mimetype": "text/x-python",
   "name": "python",
   "nbconvert_exporter": "python",
   "pygments_lexer": "ipython3",
   "version": "3.12.9"
  }
 },
 "nbformat": 4,
 "nbformat_minor": 5
}
